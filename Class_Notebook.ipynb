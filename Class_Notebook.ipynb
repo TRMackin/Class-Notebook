{
 "cells": [
  {
   "cell_type": "markdown",
   "id": "4ef4485e",
   "metadata": {},
   "source": [
    "# Ch9 Classes"
   ]
  },
  {
   "cell_type": "markdown",
   "id": "7b465366",
   "metadata": {},
   "source": [
    "### Python is an object oriented programming language.\n",
    "- Almost everything in Python is an object, with its properties and methods (Functions).\n",
    "- A Class is like an object constructor, or a \"blueprint\" for creating objects."
   ]
  },
  {
   "cell_type": "code",
   "execution_count": 1,
   "id": "741b88de",
   "metadata": {},
   "outputs": [
    {
     "name": "stdout",
     "output_type": "stream",
     "text": [
      "Angle\n",
      "Hill\n",
      "Employee full name : Angle Hill\n",
      "Employee full name : Peter White\n"
     ]
    }
   ],
   "source": [
    "class Employee():\n",
    "    #__init__ is the constructor of the class\n",
    "    #self is used to represent the instance of a class\n",
    "    def __init__(self, first, last, age, department): #method/function\n",
    "        self.first=first.title()\n",
    "        self.last=last.title()\n",
    "        self.age=age\n",
    "        self.department=department.title()\n",
    "        \n",
    "    def fullname(self):\n",
    "        return (f\"Employee full name : {self.first} {self.last}\")\n",
    "        \n",
    "emp_1=Employee(\"angle\",\"hill\", 32, \"accounting\")\n",
    "emp_2=Employee(\"peter\", \"white\", 35,\"finance\")\n",
    "print(emp_1.first)\n",
    "print(emp_1.last)\n",
    "print(emp_1.fullname())\n",
    "print(emp_2.fullname())\n",
    "#print(f\"Employee full name : {emp_1.first} {emp_1.last}\")"
   ]
  },
  {
   "cell_type": "markdown",
   "id": "5d60f7c0",
   "metadata": {},
   "source": [
    "### Creating the Dog Class\n",
    "Each instance created from the Dog class will store a name and an age, and we’ll give each dog the ability to sit() and roll_over():"
   ]
  },
  {
   "cell_type": "code",
   "execution_count": 2,
   "id": "6e84155c",
   "metadata": {},
   "outputs": [],
   "source": [
    "class Dog():\n",
    "    \n",
    "    def __init__(self, name, age):\n",
    "        self.name=name\n",
    "        self.age=age\n",
    "        \n",
    "    def sit(self):\n",
    "        print(f\"{self.name} is now sitting\")\n",
    "        \n",
    "    def rollover(self):\n",
    "        print(f\"{self.name} is now rolling over\")"
   ]
  },
  {
   "cell_type": "code",
   "execution_count": 3,
   "id": "3c70e9c0",
   "metadata": {},
   "outputs": [
    {
     "name": "stdout",
     "output_type": "stream",
     "text": [
      "Shelby\n",
      "5\n",
      "Bradly\n",
      "2\n",
      "Shelby is now sitting\n",
      "Bradly is now rolling over\n"
     ]
    }
   ],
   "source": [
    "dog1=Dog(\"Shelby\", 5)\n",
    "dog2=Dog(\"Bradly\", 2)\n",
    "print(dog1.name)\n",
    "print(dog1.age)\n",
    "print(dog2.name)\n",
    "print(dog2.age)\n",
    "dog1.sit()\n",
    "dog2.rollover()"
   ]
  },
  {
   "cell_type": "markdown",
   "id": "8bbcc5c0",
   "metadata": {},
   "source": [
    "#### Note:\n",
    "- By convention, capitalized names refer to classes in Python. \n",
    "- The parentheses in the class definition are empty because we’re creating this class from scratch.\n",
    "- All classes have a function called __init__(), which is always executed when the class is being initiated.\n",
    "- Use the __init__() function to assign values to object properties, or other operations that are necessary to do when the object is being created\n",
    "- Any variable prefixed with `self` is available to every method in the class, and we’ll also be able to access these variables through any instance created from the class.\n",
    "- The Dog class has two other methods defined: sit() and roll_over().Because these methods don’t need additional information like a name or age, we just define them to have one parameter, self."
   ]
  },
  {
   "cell_type": "markdown",
   "id": "402f0696",
   "metadata": {},
   "source": [
    "### Restaurant: Make a class called Restaurant. The __init__() method for Restaurant should store two attributes: a restaurant_name and a cuisine_type.\n",
    "- Make a method called `describe_restaurant()` that prints name of teh restrurent and the cuisine type\n",
    "- and a method called open_restaurant() that prints a message indicating that the restaurant is open.\n",
    "- Make an instance called restaurant from your class. Print the two attributes individually, and then call both methods.\n"
   ]
  },
  {
   "cell_type": "code",
   "execution_count": 4,
   "id": "c4316b2d",
   "metadata": {},
   "outputs": [],
   "source": [
    "class Restaurant():\n",
    "    \n",
    "    def __init__(self, restaurant_name, cuisine_type):\n",
    "        self.restaurant_name=restaurant_name\n",
    "        self.cuisine_type=cuisine_type\n",
    "        \n",
    "    def describe_restaurant(self):\n",
    "        print(f\"The name of the restaurant is: {self.restaurant_name}.\")\n",
    "        print(f\"The cuisine type is: {self.cuisine_type}.\")\n",
    "        \n",
    "    def open_restaurant(self):\n",
    "        print(f\"The restaurant {self.restaurant_name} is open.\")"
   ]
  },
  {
   "cell_type": "code",
   "execution_count": 5,
   "id": "f9be3f46",
   "metadata": {},
   "outputs": [],
   "source": [
    "restaurant1=Restaurant(\"Taco Bell\", \"Mexican\")\n",
    "\n",
    "restaurant2=Restaurant(\"Wendy's\", \"American\")\n",
    "\n",
    "restaurant3=Restaurant(\"Olive Garden\", \"Italian\")"
   ]
  },
  {
   "cell_type": "markdown",
   "id": "8b4a4fca",
   "metadata": {},
   "source": [
    "### - Create three different instances from the class, and call describe_restaurant() for each instance."
   ]
  },
  {
   "cell_type": "code",
   "execution_count": 6,
   "id": "b3845fe0",
   "metadata": {},
   "outputs": [
    {
     "name": "stdout",
     "output_type": "stream",
     "text": [
      "The name of the restaurant is: Taco Bell.\n",
      "The cuisine type is: Mexican.\n"
     ]
    }
   ],
   "source": [
    "restaurant1.describe_restaurant()"
   ]
  },
  {
   "cell_type": "code",
   "execution_count": 7,
   "id": "e6aa8a33",
   "metadata": {},
   "outputs": [
    {
     "name": "stdout",
     "output_type": "stream",
     "text": [
      "The name of the restaurant is: Wendy's.\n",
      "The cuisine type is: American.\n"
     ]
    }
   ],
   "source": [
    "restaurant2.describe_restaurant()"
   ]
  },
  {
   "cell_type": "code",
   "execution_count": 8,
   "id": "6b24e6f1",
   "metadata": {},
   "outputs": [
    {
     "name": "stdout",
     "output_type": "stream",
     "text": [
      "The name of the restaurant is: Olive Garden.\n",
      "The cuisine type is: Italian.\n"
     ]
    }
   ],
   "source": [
    "restaurant3.describe_restaurant()"
   ]
  },
  {
   "cell_type": "markdown",
   "id": "8f4032c6",
   "metadata": {},
   "source": [
    "### Users: Make a class called User. Create attributes called first_name and last_name, username, location \n",
    "- Make a method called describe_user() that prints a summary of the user’s information. \n",
    "- Make another method called greet_user() that prints a personalized greeting to the user.\n",
    "- Create several instances representing different users, and call both methods for each user."
   ]
  },
  {
   "cell_type": "code",
   "execution_count": 15,
   "id": "dda94ce2",
   "metadata": {},
   "outputs": [],
   "source": [
    "class User():\n",
    "    \n",
    "    def __init__(self, first_name, last_name, username, location):\n",
    "        self.first_name=first_name.title()\n",
    "        self.last_name=last_name.title()\n",
    "        self.username=username\n",
    "        self.location=location.title()\n",
    "        \n",
    "    def describe_user(self):\n",
    "        print(f\"The users name is {self.first_name} {self.last_name}.\")\n",
    "        print(f\"The users username is {self.username}.\")\n",
    "        print(f\"The users location is {self.location}.\")\n",
    "        \n",
    "    def greet_user(self):\n",
    "        print(f\"Welcome {self.first_name} {self.last_name}.\")"
   ]
  },
  {
   "cell_type": "code",
   "execution_count": 17,
   "id": "8864d617",
   "metadata": {},
   "outputs": [
    {
     "name": "stdout",
     "output_type": "stream",
     "text": [
      "The users name is Thomas Mackin.\n",
      "The users username is TMackin.\n",
      "The users location is Louisville.\n"
     ]
    }
   ],
   "source": [
    "user1=User(\"Thomas\", \"Mackin\", \"TMackin\", \"Louisville\")\n",
    "user1.describe_user()\n"
   ]
  },
  {
   "cell_type": "code",
   "execution_count": 19,
   "id": "c9e26028",
   "metadata": {},
   "outputs": [
    {
     "name": "stdout",
     "output_type": "stream",
     "text": [
      "The users name is John Smith.\n",
      "The users username is JSmith.\n",
      "The users location is Lexington.\n",
      "Welcome John Smith.\n",
      "The users name is Lake White.\n",
      "The users username is LWhite.\n",
      "The users location is Indianapolis.\n",
      "Welcome Lake White.\n"
     ]
    }
   ],
   "source": [
    "user2=User(\"John\", \"Smith\", \"JSmith\", \"Lexington\")\n",
    "user2.describe_user()\n",
    "user2.greet_user()"
   ]
  },
  {
   "cell_type": "markdown",
   "id": "8b5bfff2",
   "metadata": {},
   "source": [
    "## Setting a Default Value for an Attribute"
   ]
  },
  {
   "cell_type": "code",
   "execution_count": 66,
   "id": "bbdc7a10",
   "metadata": {},
   "outputs": [],
   "source": [
    "class car():\n",
    "    \n",
    "    def __init__(self, make, model, year):\n",
    "        self.make=make\n",
    "        self.model=model\n",
    "        self.year=year\n",
    "        self.odometer_reading=0\n",
    "        \n",
    "    def get_descriptive_name(self):\n",
    "        long_name=str(self.year)+\" \"+(self.make)+\" \"+(self.model)\n",
    "        return long_name.title()\n",
    "    \n",
    "    def read_odometer(self):\n",
    "        print(f\"This car has {self.odometer_reading} miles on it.\")\n",
    "    \n",
    "    def update_odometer(self, milage):\n",
    "        self.odometer_reading+=milage"
   ]
  },
  {
   "cell_type": "code",
   "execution_count": 67,
   "id": "d970d8bf",
   "metadata": {},
   "outputs": [
    {
     "data": {
      "text/plain": [
       "'2006 Mazda 6'"
      ]
     },
     "execution_count": 67,
     "metadata": {},
     "output_type": "execute_result"
    }
   ],
   "source": [
    "my_car=car(\"Mazda\", \"6\", 2006)\n",
    "my_car.get_descriptive_name()"
   ]
  },
  {
   "cell_type": "code",
   "execution_count": 68,
   "id": "9ea6316b",
   "metadata": {},
   "outputs": [
    {
     "name": "stdout",
     "output_type": "stream",
     "text": [
      "This car has 0 miles on it.\n"
     ]
    }
   ],
   "source": [
    "my_car.read_odometer()"
   ]
  },
  {
   "cell_type": "code",
   "execution_count": 73,
   "id": "7f0a43a9",
   "metadata": {},
   "outputs": [],
   "source": [
    "my_car.update_odometer(40)"
   ]
  },
  {
   "cell_type": "code",
   "execution_count": 74,
   "id": "628744a9",
   "metadata": {},
   "outputs": [
    {
     "name": "stdout",
     "output_type": "stream",
     "text": [
      "This car has 120 miles on it.\n"
     ]
    }
   ],
   "source": [
    "my_car.read_odometer()"
   ]
  },
  {
   "cell_type": "markdown",
   "id": "3f840f3e",
   "metadata": {},
   "source": [
    "#### Modifying an Attribute’s Value Directly"
   ]
  },
  {
   "cell_type": "code",
   "execution_count": null,
   "id": "6f8fa540",
   "metadata": {},
   "outputs": [],
   "source": []
  },
  {
   "cell_type": "code",
   "execution_count": null,
   "id": "2f382418",
   "metadata": {},
   "outputs": [],
   "source": []
  },
  {
   "cell_type": "markdown",
   "id": "27f8f244",
   "metadata": {},
   "source": [
    "### Modifying an Attribute’s Value Through a Method"
   ]
  },
  {
   "cell_type": "code",
   "execution_count": null,
   "id": "9b3ae956",
   "metadata": {},
   "outputs": [],
   "source": []
  },
  {
   "cell_type": "code",
   "execution_count": null,
   "id": "3c3c57c2",
   "metadata": {},
   "outputs": [],
   "source": []
  },
  {
   "cell_type": "markdown",
   "id": "fd560131",
   "metadata": {},
   "source": [
    "### Incrementing an Attribute’s Value Through a Method"
   ]
  },
  {
   "cell_type": "code",
   "execution_count": null,
   "id": "8d76b884",
   "metadata": {},
   "outputs": [],
   "source": []
  },
  {
   "cell_type": "code",
   "execution_count": null,
   "id": "1500c7e7",
   "metadata": {},
   "outputs": [],
   "source": []
  },
  {
   "cell_type": "markdown",
   "id": "b96f0d18",
   "metadata": {},
   "source": [
    "# Inheritance\n",
    "- You don’t always have to start from scratch when writing a class. If the class you’re writing is a specialized version of another class you wrote, you can use inheritance. \n",
    "- When one class inherits from another, it automatically takes on all the attributes and methods of the first class. The original class is called the `parent class`, and the new class is the `child class`. \n",
    "- The child class inherits every attribute and method from its parent class but is also free to define new attributes and methods of its own."
   ]
  },
  {
   "cell_type": "markdown",
   "id": "14b44abd",
   "metadata": {},
   "source": [
    "## Parent Class"
   ]
  },
  {
   "cell_type": "code",
   "execution_count": 1,
   "id": "5b7c3efd",
   "metadata": {},
   "outputs": [],
   "source": [
    "class car():\n",
    "    \n",
    "    def __init__(self, make, model, year):\n",
    "        self.make=make\n",
    "        self.model=model\n",
    "        self.year=year\n",
    "        self.odometer_reading=0\n",
    "        \n",
    "    def get_descriptive_name(self):\n",
    "        long_name=str(self.year)+\" \"+(self.make)+\" \"+(self.model)\n",
    "        return long_name.title()\n",
    "    \n",
    "    def read_odometer(self):\n",
    "        print(f\"This car has {self.odometer_reading} miles on it.\")\n",
    "    \n",
    "    def update_odometer(self, milage):\n",
    "        self.odometer_reading+=milage"
   ]
  },
  {
   "cell_type": "markdown",
   "id": "f485385c",
   "metadata": {},
   "source": [
    "## Child Class"
   ]
  },
  {
   "cell_type": "code",
   "execution_count": 2,
   "id": "b0766c5e",
   "metadata": {},
   "outputs": [],
   "source": [
    "class electricCar(car):\n",
    "    \n",
    "    def __init__(self, make, model, year):\n",
    "        super().__init__(make, model, year) #inherit the parent class attributes"
   ]
  },
  {
   "cell_type": "code",
   "execution_count": 3,
   "id": "3289f4cd",
   "metadata": {},
   "outputs": [
    {
     "name": "stdout",
     "output_type": "stream",
     "text": [
      "<bound method car.get_descriptive_name of <__main__.electricCar object at 0x7fd11c768a00>>\n"
     ]
    }
   ],
   "source": [
    "my_tesla=electricCar(\"Tesla\", \"Model X\", 2021)\n",
    "print(my_tesla.get_descriptive_name)"
   ]
  },
  {
   "cell_type": "markdown",
   "id": "5b594c20",
   "metadata": {},
   "source": [
    "### Practice: Create a class named Person, with firstname and lastname properties, and a printname method:"
   ]
  },
  {
   "cell_type": "code",
   "execution_count": 12,
   "id": "681edaaf",
   "metadata": {},
   "outputs": [],
   "source": [
    "class person():\n",
    "    \n",
    "    def __init__(self, firstname, lastname):\n",
    "        self.firstname=firstname\n",
    "        self.lastname=lastname\n",
    "        \n",
    "    def printname(self):\n",
    "        print(f'{self.firstname} {self.lastname}')"
   ]
  },
  {
   "cell_type": "code",
   "execution_count": 13,
   "id": "9d3a0e56",
   "metadata": {},
   "outputs": [
    {
     "name": "stdout",
     "output_type": "stream",
     "text": [
      "John Smith\n"
     ]
    }
   ],
   "source": [
    "person1=person(\"John\", \"Smith\")\n",
    "person1.printname()"
   ]
  },
  {
   "cell_type": "code",
   "execution_count": 14,
   "id": "b75d7a0a",
   "metadata": {},
   "outputs": [
    {
     "name": "stdout",
     "output_type": "stream",
     "text": [
      "Thomas Mackin\n"
     ]
    }
   ],
   "source": [
    "person1=person(\"Thomas\", \"Mackin\")\n",
    "person1.printname()"
   ]
  },
  {
   "cell_type": "markdown",
   "id": "a8023470",
   "metadata": {},
   "source": [
    "### Create child classes called Student using Inheritance contains the first and last name and the graduation year \n",
    "- Add a method called `welcome` that prints the student graduation year\n",
    "- Test the student method for two students"
   ]
  },
  {
   "cell_type": "code",
   "execution_count": 25,
   "id": "8a1571d5",
   "metadata": {},
   "outputs": [],
   "source": [
    "class student(person):\n",
    "    \n",
    "    def __init__(self, firstname, lastname, gradyear):\n",
    "        super().__init__(firstname, lastname)\n",
    "        self.gradyear=gradyear\n",
    "        \n",
    "    def welcome(self):\n",
    "        print(f'Welcome, {self.firstname} {self.lastname} to the class of {self.gradyear}.')"
   ]
  },
  {
   "cell_type": "code",
   "execution_count": 27,
   "id": "5816f6a4",
   "metadata": {},
   "outputs": [
    {
     "name": "stdout",
     "output_type": "stream",
     "text": [
      "Welcome, Richard Olson to the class of 2025.\n"
     ]
    }
   ],
   "source": [
    "student1=student(\"Richard\", \"Olson\", 2025)\n",
    "student1.welcome()"
   ]
  },
  {
   "cell_type": "code",
   "execution_count": 48,
   "id": "60e11979",
   "metadata": {},
   "outputs": [],
   "source": [
    "class rectangle():\n",
    "    \n",
    "    def __init__(self, length, height):\n",
    "        self.length=length\n",
    "        self.height=height\n",
    "        \n",
    "    def area_rect(self):\n",
    "        print(self.length * self.height)\n",
    "    \n",
    "    def peri_rect(self):\n",
    "        print(self.length + self.length + self.height + self.height)\n",
    "       \n",
    "    \n",
    "class square():\n",
    "    \n",
    "    def __init__(self, length):\n",
    "        self.length=length\n",
    "        \n",
    "    def area_sqaure(self):\n",
    "        print(self.length * 4)\n",
    "    \n",
    "    def peri_sqaure(self):\n",
    "        print(self.length + self.length + self.length + self.length)"
   ]
  },
  {
   "cell_type": "code",
   "execution_count": null,
   "id": "26ceda15",
   "metadata": {},
   "outputs": [],
   "source": [
    "class sqaure1(rectangle):\n",
    "    \n",
    "     def __init__(self, length):\n",
    "            super.()__init__(length)"
   ]
  },
  {
   "cell_type": "code",
   "execution_count": 50,
   "id": "be872327",
   "metadata": {},
   "outputs": [
    {
     "name": "stdout",
     "output_type": "stream",
     "text": [
      "20\n",
      "18\n",
      "16\n",
      "16\n"
     ]
    }
   ],
   "source": [
    "rectangle1=rectangle(4, 5)\n",
    "rectangle1.area_rect()\n",
    "rectangle1.peri_rect()\n",
    "\n",
    "sqaure1=square(4)\n",
    "sqaure1.area_sqaure()\n",
    "sqaure1.peri_sqaure()"
   ]
  },
  {
   "cell_type": "markdown",
   "id": "3bdcfd1c",
   "metadata": {},
   "source": [
    "## Create a simple calculator using classes"
   ]
  },
  {
   "cell_type": "code",
   "execution_count": 3,
   "id": "6ab4b4b1",
   "metadata": {},
   "outputs": [
    {
     "name": "stdout",
     "output_type": "stream",
     "text": [
      "Choose from the following menu: \n",
      "1. Addition\n",
      "2. Subtraction\n",
      "3. Multiplication\n",
      "4. Division\n",
      "5. Exit\n",
      "Enter your choice (1-5): 1\n",
      "Enter 1st number: 10\n",
      "Enter 2nd number: 10\n",
      "Addition=20\n",
      "Choose from the following menu: \n",
      "1. Addition\n",
      "2. Subtraction\n",
      "3. Multiplication\n",
      "4. Division\n",
      "5. Exit\n",
      "Enter your choice (1-5): 2\n",
      "Enter 1st number: 10\n",
      "Enter 2nd number: 10\n",
      "Subtraction=0\n",
      "Choose from the following menu: \n",
      "1. Addition\n",
      "2. Subtraction\n",
      "3. Multiplication\n",
      "4. Division\n",
      "5. Exit\n",
      "Enter your choice (1-5): 3\n",
      "Enter 1st number: 10\n",
      "Enter 2nd number: 10\n",
      "Multiplication=100\n",
      "Choose from the following menu: \n",
      "1. Addition\n",
      "2. Subtraction\n",
      "3. Multiplication\n",
      "4. Division\n",
      "5. Exit\n",
      "Enter your choice (1-5): 4\n",
      "Enter 1st number: 10\n",
      "Enter 2nd number: 10\n",
      "Division=1.0\n",
      "Division=1.0\n",
      "Choose from the following menu: \n",
      "1. Addition\n",
      "2. Subtraction\n",
      "3. Multiplication\n",
      "4. Division\n",
      "5. Exit\n",
      "Enter your choice (1-5): 5\n"
     ]
    }
   ],
   "source": [
    "class calc():\n",
    "    def __init__(self, input1, input2):\n",
    "        self.input1=input1\n",
    "        self.input2=input2\n",
    "    \n",
    "    def addition(num1, num2):\n",
    "        print(f'Addition={num1+num2}')\n",
    "        \n",
    "    def subtraction(num1, num2):\n",
    "        print(f'Subtraction={num1-num2}')\n",
    "    \n",
    "    def multiplication(num1, num2):\n",
    "        print(f'Multiplication={num1*num2}')\n",
    "    \n",
    "    def divison(num1, num2):\n",
    "        print(f'Division={num1/num2}')\n",
    "        \n",
    "while True:\n",
    "    print(\"Choose from the following menu: \")\n",
    "    print(\"1. Addition\")\n",
    "    print(\"2. Subtraction\")\n",
    "    print(\"3. Multiplication\")\n",
    "    print(\"4. Division\")\n",
    "    print(\"5. Exit\")\n",
    "    \n",
    "    choice=int(input(\"Enter your choice (1-5): \"))\n",
    "    \n",
    "    if choice == 1:\n",
    "        num1=int(input(\"Enter 1st number: \"))\n",
    "        num2=int(input(\"Enter 2nd number: \"))\n",
    "        calc.addition(num1, num2)\n",
    "    \n",
    "    elif choice == 2:\n",
    "        num1=int(input(\"Enter 1st number: \"))\n",
    "        num2=int(input(\"Enter 2nd number: \"))\n",
    "        calc.subtraction(num1, num2)\n",
    "    \n",
    "    elif choice == 3:\n",
    "        num1=int(input(\"Enter 1st number: \"))\n",
    "        num2=int(input(\"Enter 2nd number: \"))\n",
    "        calc.multiplication(num1, num2)\n",
    "        \n",
    "    elif choice == 4:\n",
    "        num1=int(input(\"Enter 1st number: \"))\n",
    "        num2=int(input(\"Enter 2nd number: \"))\n",
    "        calc.divison(num1, num2)\n",
    "        if num2 == 0:\n",
    "            print(\"Infinity\")\n",
    "        else:\n",
    "            calc.divison(num1, num2)\n",
    "            \n",
    "    elif choice == 5:\n",
    "        break\n",
    "    \n",
    "    else:\n",
    "        print(\"Wrong choice\")"
   ]
  },
  {
   "cell_type": "markdown",
   "id": "0ec161b5",
   "metadata": {},
   "source": [
    "## ATM machine "
   ]
  },
  {
   "cell_type": "code",
   "execution_count": 4,
   "id": "267c3e25",
   "metadata": {},
   "outputs": [],
   "source": [
    "class ATM():\n",
    "    \n",
    "    def __init__(self):\n",
    "        self.balance=0\n",
    "        print(\"Hello, welcome to the ATM machine.\")\n",
    "        \n",
    "    def deposit(self):\n",
    "        amount=float(input(\"Enter amount to be deposited: \"))\n",
    "        self.balance+=amount\n",
    "        print(\"The amount deposited: \", amount)\n",
    "        \n",
    "    def withdraw(self):\n",
    "        amount=float(input(\"Enter amount to be withdrawn: \"))\n",
    "        if self.balance>=amount:\n",
    "            self.balance-=amount\n",
    "            print(\"The amount withdrawn: \", amount)\n",
    "        else:\n",
    "            print(\"Insufficient balance.\")\n",
    "    def display(self):\n",
    "        print(\"The available balance: \", self.balance)"
   ]
  },
  {
   "cell_type": "code",
   "execution_count": 12,
   "id": "672cad4c",
   "metadata": {},
   "outputs": [
    {
     "name": "stdout",
     "output_type": "stream",
     "text": [
      "Hello, welcome to the ATM machine.\n",
      "Enter amount to be deposited: 500\n",
      "The amount deposited:  500.0\n",
      "The available balance:  500.0\n"
     ]
    }
   ],
   "source": [
    "my_account=ATM()\n",
    "my_account.deposit()\n",
    "my_account.display()"
   ]
  },
  {
   "cell_type": "code",
   "execution_count": 13,
   "id": "5d01a6d7",
   "metadata": {},
   "outputs": [
    {
     "name": "stdout",
     "output_type": "stream",
     "text": [
      "Enter amount to be deposited: 1000\n",
      "The amount deposited:  1000.0\n",
      "The available balance:  1500.0\n"
     ]
    }
   ],
   "source": [
    "my_account.deposit()\n",
    "my_account.display()"
   ]
  },
  {
   "cell_type": "code",
   "execution_count": 14,
   "id": "5fb1177d",
   "metadata": {},
   "outputs": [
    {
     "name": "stdout",
     "output_type": "stream",
     "text": [
      "Enter amount to be withdrawn: 300\n",
      "The amount withdrawn:  300.0\n",
      "The available balance:  1200.0\n"
     ]
    }
   ],
   "source": [
    "my_account.withdraw()\n",
    "my_account.display()"
   ]
  },
  {
   "cell_type": "code",
   "execution_count": 15,
   "id": "a254a650",
   "metadata": {},
   "outputs": [
    {
     "name": "stdout",
     "output_type": "stream",
     "text": [
      "Enter amount to be withdrawn: 1500\n",
      "Insufficient balance.\n",
      "The available balance:  1200.0\n"
     ]
    }
   ],
   "source": [
    "my_account.withdraw()\n",
    "my_account.display()"
   ]
  }
 ],
 "metadata": {
  "kernelspec": {
   "display_name": "Python 3 (ipykernel)",
   "language": "python",
   "name": "python3"
  },
  "language_info": {
   "codemirror_mode": {
    "name": "ipython",
    "version": 3
   },
   "file_extension": ".py",
   "mimetype": "text/x-python",
   "name": "python",
   "nbconvert_exporter": "python",
   "pygments_lexer": "ipython3",
   "version": "3.9.12"
  }
 },
 "nbformat": 4,
 "nbformat_minor": 5
}
