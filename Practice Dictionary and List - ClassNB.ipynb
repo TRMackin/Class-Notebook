{
 "cells": [
  {
   "cell_type": "markdown",
   "id": "bf29eaec",
   "metadata": {},
   "source": [
    "## Practice Questions Dictionary and List"
   ]
  },
  {
   "cell_type": "markdown",
   "id": "2e122459",
   "metadata": {},
   "source": [
    "### List reverse"
   ]
  },
  {
   "cell_type": "code",
   "execution_count": 1,
   "id": "d19a2eb2",
   "metadata": {},
   "outputs": [
    {
     "data": {
      "text/plain": [
       "[43, 12, 23, 45, 67, 34]"
      ]
     },
     "execution_count": 1,
     "metadata": {},
     "output_type": "execute_result"
    }
   ],
   "source": [
    "Lista=[34,67,45,23,12,43]\n",
    "Lista[::-1]"
   ]
  },
  {
   "cell_type": "markdown",
   "id": "b312a293",
   "metadata": {},
   "source": [
    "### Convert the lists to dictionary\n",
    "* keys = ['Ten', 'Twenty', 'Thirty']\n",
    "* values = [10, 20, 30]"
   ]
  },
  {
   "cell_type": "code",
   "execution_count": 2,
   "id": "5a3532c6",
   "metadata": {},
   "outputs": [
    {
     "data": {
      "text/plain": [
       "[('Ten', 10), ('Twenty', 20), ('Thirty', 30)]"
      ]
     },
     "execution_count": 2,
     "metadata": {},
     "output_type": "execute_result"
    }
   ],
   "source": [
    "keys = ['Ten', 'Twenty', 'Thirty']\n",
    "values = [10, 20, 30]\n",
    "list(zip(keys,values))"
   ]
  },
  {
   "cell_type": "code",
   "execution_count": 3,
   "id": "5d5c1dfd",
   "metadata": {
    "scrolled": true
   },
   "outputs": [
    {
     "data": {
      "text/plain": [
       "{'Ten': 10, 'Twenty': 20, 'Thirty': 30}"
      ]
     },
     "execution_count": 3,
     "metadata": {},
     "output_type": "execute_result"
    }
   ],
   "source": [
    "dict(zip(keys, values)) #Answer"
   ]
  },
  {
   "cell_type": "code",
   "execution_count": 4,
   "id": "710ea2cd",
   "metadata": {},
   "outputs": [
    {
     "data": {
      "text/plain": [
       "(('Ten', 10), ('Twenty', 20), ('Thirty', 30))"
      ]
     },
     "execution_count": 4,
     "metadata": {},
     "output_type": "execute_result"
    }
   ],
   "source": [
    "tuple(zip(keys, values))"
   ]
  },
  {
   "cell_type": "markdown",
   "id": "10d3e10b",
   "metadata": {},
   "source": [
    "### Marge the following two dictionaries and keep the original dictionaries as it is\n",
    "* dict0 = {'Ten': 10, 'Twenty': 20, 'Thirty': 30}\n",
    "* dict1 = {'Thirty': 30, 'Fourty': 40, 'Fifty': 50}"
   ]
  },
  {
   "cell_type": "code",
   "execution_count": 5,
   "id": "b5dfda6b",
   "metadata": {},
   "outputs": [],
   "source": [
    "dict0 = {'Ten': 10, 'Twenty': 20, 'Thirty': 30}\n",
    "dict1 = {'Thirty': 30, 'Fourty': 40, 'Fifty': 50}"
   ]
  },
  {
   "cell_type": "code",
   "execution_count": 6,
   "id": "fd86bd02",
   "metadata": {},
   "outputs": [
    {
     "data": {
      "text/plain": [
       "{'Ten': 10, 'Twenty': 20, 'Thirty': 30}"
      ]
     },
     "execution_count": 6,
     "metadata": {},
     "output_type": "execute_result"
    }
   ],
   "source": [
    "dict2=dict0.copy()\n",
    "dict2"
   ]
  },
  {
   "cell_type": "code",
   "execution_count": 7,
   "id": "fb076997",
   "metadata": {},
   "outputs": [],
   "source": [
    "dict2.update(dict1)"
   ]
  },
  {
   "cell_type": "code",
   "execution_count": 8,
   "id": "93613d5e",
   "metadata": {},
   "outputs": [
    {
     "data": {
      "text/plain": [
       "{'Ten': 10, 'Twenty': 20, 'Thirty': 30, 'Fourty': 40, 'Fifty': 50}"
      ]
     },
     "execution_count": 8,
     "metadata": {},
     "output_type": "execute_result"
    }
   ],
   "source": [
    "dict2"
   ]
  },
  {
   "cell_type": "markdown",
   "id": "0ce25abc",
   "metadata": {},
   "source": [
    "### Access 70 from dictionary\n",
    " * Dict3 = { \"class\":{ \"student\":{ \"subject\":{ \"physics\":70,\"history\":80}}}}"
   ]
  },
  {
   "cell_type": "code",
   "execution_count": 9,
   "id": "03b473f6",
   "metadata": {},
   "outputs": [
    {
     "data": {
      "text/plain": [
       "70"
      ]
     },
     "execution_count": 9,
     "metadata": {},
     "output_type": "execute_result"
    }
   ],
   "source": [
    "dict3 = { \"class\":{ \"student\":{ \"subject\":{ \"physics\":70,\"history\":80}}}}\n",
    "dict3[\"class\"][\"student\"][\"subject\"][\"physics\"]"
   ]
  },
  {
   "cell_type": "markdown",
   "id": "56ba4a6d",
   "metadata": {},
   "source": [
    " Dict4 = {\n",
    "  \"name\": \"Mark\",\n",
    "  \"age\":21,\n",
    "  \"College\": \"Junior\",\n",
    "  \"city\": \"Atlanta\"}\n",
    " * Extract keys = [\"name\", \"city\"]\n",
    " * Expecte output: {'name': 'Mark', 'city': 'Atlanta'}\n",
    " "
   ]
  },
  {
   "cell_type": "code",
   "execution_count": 10,
   "id": "bfc5e6f7",
   "metadata": {},
   "outputs": [
    {
     "name": "stdout",
     "output_type": "stream",
     "text": [
      "{'name': 'Mark'}\n",
      "{'city': 'Atlanta'}\n"
     ]
    }
   ],
   "source": [
    "dict4 = { \"name\": \"Mark\", \"age\":21, \"College\": \"Junior\", \"city\": \"Atlanta\"}\n",
    "keys = [\"name\", \"city\"]\n",
    "for K in keys:\n",
    "    print({K:dict4[K]})"
   ]
  },
  {
   "cell_type": "markdown",
   "id": "85656c3d",
   "metadata": {},
   "source": [
    "### Dict7 = {'a': 100, 'b': 200, 'c': 300}\n",
    " * Check if value 200 is present or not "
   ]
  },
  {
   "cell_type": "code",
   "execution_count": 11,
   "id": "bc741055",
   "metadata": {},
   "outputs": [
    {
     "name": "stdout",
     "output_type": "stream",
     "text": [
      "True\n"
     ]
    }
   ],
   "source": [
    "dict7 = {'a': 100, 'b': 200, 'c': 300}\n",
    "print(200 in dict7.values())"
   ]
  },
  {
   "cell_type": "code",
   "execution_count": 12,
   "id": "a5ae32a7",
   "metadata": {},
   "outputs": [
    {
     "name": "stdout",
     "output_type": "stream",
     "text": [
      "False\n"
     ]
    }
   ],
   "source": [
    "print(400 in dict7.values())"
   ]
  },
  {
   "cell_type": "markdown",
   "id": "5b60bfb1",
   "metadata": {},
   "source": [
    "### check the key 'c' is present in the dict or not"
   ]
  },
  {
   "cell_type": "code",
   "execution_count": 13,
   "id": "eedc5f9e",
   "metadata": {},
   "outputs": [
    {
     "name": "stdout",
     "output_type": "stream",
     "text": [
      "True\n"
     ]
    }
   ],
   "source": [
    "print('c' in dict7.keys())"
   ]
  },
  {
   "cell_type": "markdown",
   "id": "3f28f383",
   "metadata": {},
   "source": [
    "###  Update Brad’s salary to 7500 \n",
    "* sampleDict = {\n",
    "     'emp1': {'name': 'Jhon', 'salary': 5500},\n",
    "     'emp2': {'name': 'Emma', 'salary': 7000},\n",
    "     'emp3': {'name': 'Brad', 'salary': 6500}\n",
    "}"
   ]
  },
  {
   "cell_type": "code",
   "execution_count": 14,
   "id": "42395758",
   "metadata": {},
   "outputs": [],
   "source": [
    "sampledict = { 'emp1': {'name': 'Jhon', 'salary': 5500},\n",
    "              'emp2': {'name': 'Emma', 'salary': 7000},\n",
    "              'emp3': {'name': 'Brad', 'salary': 6500} }"
   ]
  },
  {
   "cell_type": "code",
   "execution_count": 15,
   "id": "a6364ddd",
   "metadata": {},
   "outputs": [
    {
     "data": {
      "text/plain": [
       "{'emp1': {'name': 'Jhon', 'salary': 5500},\n",
       " 'emp2': {'name': 'Emma', 'salary': 7000},\n",
       " 'emp3': {'name': 'Brad', 'salary': 7500}}"
      ]
     },
     "execution_count": 15,
     "metadata": {},
     "output_type": "execute_result"
    }
   ],
   "source": [
    "sampledict['emp3']['salary']=7500\n",
    "sampledict"
   ]
  },
  {
   "cell_type": "markdown",
   "id": "8a44a9fd",
   "metadata": {},
   "source": [
    "### Find who is younger\n",
    "Dict9 = {\n",
    "  'Sam': 82,\n",
    "  'Harry': 65,\n",
    "  'Jack': 75\n",
    "}"
   ]
  },
  {
   "cell_type": "code",
   "execution_count": 16,
   "id": "6fda5fce",
   "metadata": {},
   "outputs": [
    {
     "name": "stdout",
     "output_type": "stream",
     "text": [
      "65\n"
     ]
    }
   ],
   "source": [
    "dict9 = { 'Sam': 82, 'Harry': 65, 'Jack': 75 }\n",
    "temp=min(dict9.values())\n",
    "print(temp)"
   ]
  },
  {
   "cell_type": "code",
   "execution_count": 17,
   "id": "1fae8c37",
   "metadata": {},
   "outputs": [
    {
     "name": "stdout",
     "output_type": "stream",
     "text": [
      "Harry\n"
     ]
    }
   ],
   "source": [
    "for key in dict9.keys():\n",
    "    if dict9[key]==temp:\n",
    "        print(key)"
   ]
  },
  {
   "cell_type": "code",
   "execution_count": 18,
   "id": "a550025e",
   "metadata": {},
   "outputs": [
    {
     "name": "stdout",
     "output_type": "stream",
     "text": [
      "82\n"
     ]
    }
   ],
   "source": [
    "temp1=max(dict9.values())\n",
    "print(temp1)"
   ]
  },
  {
   "cell_type": "code",
   "execution_count": 19,
   "id": "91363d84",
   "metadata": {},
   "outputs": [
    {
     "name": "stdout",
     "output_type": "stream",
     "text": [
      "Sam\n"
     ]
    }
   ],
   "source": [
    "for key in dict9.keys():\n",
    "    if dict9[key]==temp1:\n",
    "        print(key)"
   ]
  },
  {
   "cell_type": "markdown",
   "id": "131bf3b1",
   "metadata": {},
   "source": [
    "### Update **city to location**\n",
    " Dict10 = {\n",
    "  \"name\": \"Mark\",\n",
    "  \"age\":21,\n",
    "  \"College\": \"Junior\",\n",
    "  \"city\": \"Atlanta\"}\n"
   ]
  },
  {
   "cell_type": "code",
   "execution_count": 20,
   "id": "a89051ea",
   "metadata": {},
   "outputs": [
    {
     "data": {
      "text/plain": [
       "{'name': 'Mark', 'age': 21, 'College': 'Junior', 'location': 'Atlanta'}"
      ]
     },
     "execution_count": 20,
     "metadata": {},
     "output_type": "execute_result"
    }
   ],
   "source": [
    "dict10 = { \"name\": \"Mark\", \"age\":21, \"College\": \"Junior\", \"city\": \"Atlanta\"}\n",
    "dict10[\"location\"]=dict10.pop(\"city\")\n",
    "dict10"
   ]
  }
 ],
 "metadata": {
  "kernelspec": {
   "display_name": "Python 3 (ipykernel)",
   "language": "python",
   "name": "python3"
  },
  "language_info": {
   "codemirror_mode": {
    "name": "ipython",
    "version": 3
   },
   "file_extension": ".py",
   "mimetype": "text/x-python",
   "name": "python",
   "nbconvert_exporter": "python",
   "pygments_lexer": "ipython3",
   "version": "3.9.12"
  }
 },
 "nbformat": 4,
 "nbformat_minor": 5
}
